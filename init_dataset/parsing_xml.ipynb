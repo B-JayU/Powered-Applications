{
 "cells": [
  {
   "attachments": {},
   "cell_type": "markdown",
   "metadata": {},
   "source": [
    "### 데이터 셋 구축하기"
   ]
  },
  {
   "cell_type": "code",
   "execution_count": 4,
   "metadata": {},
   "outputs": [],
   "source": [
    "import xml.etree.ElementTree as ELT\n",
    "from bs4 import BeautifulSoup\n",
    "import pandas as pd"
   ]
  },
  {
   "cell_type": "code",
   "execution_count": 5,
   "metadata": {},
   "outputs": [
    {
     "name": "stderr",
     "output_type": "stream",
     "text": [
      "/Users/mac/opt/anaconda3/lib/python3.8/site-packages/IPython/core/interactiveshell.py:3441: DtypeWarning: Columns (6) have mixed types.Specify dtype option on import or set low_memory=False.\n",
      "  exec(code_obj, self.user_global_ns, self.user_ns)\n"
     ]
    },
    {
     "name": "stdout",
     "output_type": "stream",
     "text": [
      "<class 'pandas.core.frame.DataFrame'>\n",
      "RangeIndex: 7971 entries, 0 to 7970\n",
      "Data columns (total 66 columns):\n",
      " #   Column                     Non-Null Count  Dtype  \n",
      "---  ------                     --------------  -----  \n",
      " 0   Id                         7971 non-null   int64  \n",
      " 1   Unnamed: 0                 7971 non-null   int64  \n",
      " 2   AcceptedAnswerId           4124 non-null   float64\n",
      " 3   AnswerCount                7971 non-null   int64  \n",
      " 4   Body                       7971 non-null   object \n",
      " 5   ClosedDate                 969 non-null    object \n",
      " 6   CommentCount               7971 non-null   int64  \n",
      " 7   CommunityOwnedDate         17 non-null     object \n",
      " 8   CreationDate               7971 non-null   object \n",
      " 9   FavoriteCount              3307 non-null   float64\n",
      " 10  Id.1                       7971 non-null   int64  \n",
      " 11  LastActivityDate           7971 non-null   object \n",
      " 12  LastEditDate               4711 non-null   object \n",
      " 13  LastEditorDisplayName      123 non-null    object \n",
      " 14  LastEditorUserId           4604 non-null   float64\n",
      " 15  OwnerDisplayName           419 non-null    object \n",
      " 16  OwnerUserId                7971 non-null   int64  \n",
      " 17  ParentId                   0 non-null      float64\n",
      " 18  PostTypeId                 7971 non-null   int64  \n",
      " 19  Score                      7971 non-null   int64  \n",
      " 20  Tags                       7971 non-null   object \n",
      " 21  Title                      7971 non-null   object \n",
      " 22  ViewCount                  7971 non-null   float64\n",
      " 23  body_text                  7971 non-null   object \n",
      " 24  is_question                7971 non-null   bool   \n",
      " 25  Id_question                0 non-null      float64\n",
      " 26  Title_question             0 non-null      float64\n",
      " 27  body_text_question         0 non-null      float64\n",
      " 28  Score_question             0 non-null      float64\n",
      " 29  AcceptedAnswerId_question  0 non-null      float64\n",
      " 30  full_text                  7971 non-null   object \n",
      " 31  action_verb_full           7971 non-null   bool   \n",
      " 32  language_question          7971 non-null   bool   \n",
      " 33  question_mark_full         7971 non-null   bool   \n",
      " 34  text_len                   7971 non-null   int64  \n",
      " 35  num_chars                  7971 non-null   int64  \n",
      " 36  num_questions              7971 non-null   float64\n",
      " 37  num_periods                7971 non-null   float64\n",
      " 38  num_commas                 7971 non-null   float64\n",
      " 39  num_exclam                 7971 non-null   float64\n",
      " 40  num_quotes                 7971 non-null   float64\n",
      " 41  num_colon                  7971 non-null   float64\n",
      " 42  num_semicolon              7971 non-null   float64\n",
      " 43  spacy_text                 7971 non-null   object \n",
      " 44  num_words                  7971 non-null   float64\n",
      " 45  num_diff_words             7971 non-null   int64  \n",
      " 46  avg_word_len               7971 non-null   float64\n",
      " 47  num_stops                  7971 non-null   float64\n",
      " 48  ADJ                        7971 non-null   float64\n",
      " 49  ADP                        7971 non-null   float64\n",
      " 50  ADV                        7971 non-null   float64\n",
      " 51  AUX                        7971 non-null   float64\n",
      " 52  CONJ                       7971 non-null   float64\n",
      " 53  DET                        7971 non-null   float64\n",
      " 54  INTJ                       7971 non-null   float64\n",
      " 55  NOUN                       7971 non-null   float64\n",
      " 56  NUM                        7971 non-null   float64\n",
      " 57  PART                       7971 non-null   float64\n",
      " 58  PRON                       7971 non-null   float64\n",
      " 59  PROPN                      7971 non-null   float64\n",
      " 60  PUNCT                      7971 non-null   float64\n",
      " 61  SCONJ                      7971 non-null   float64\n",
      " 62  SYM                        7971 non-null   float64\n",
      " 63  VERB                       7971 non-null   float64\n",
      " 64  X                          7971 non-null   float64\n",
      " 65  polarity                   7971 non-null   float64\n",
      "dtypes: bool(4), float64(38), int64(11), object(13)\n",
      "memory usage: 3.8+ MB\n",
      "None\n"
     ]
    }
   ],
   "source": [
    "data = pd.read_csv(\"./writers.csv\")\n",
    "df = pd.read_csv(\"./writers_with_features.csv\")\n",
    "print(df.info())"
   ]
  },
  {
   "cell_type": "code",
   "execution_count": 6,
   "metadata": {},
   "outputs": [
    {
     "data": {
      "text/html": [
       "<div>\n",
       "<style scoped>\n",
       "    .dataframe tbody tr th:only-of-type {\n",
       "        vertical-align: middle;\n",
       "    }\n",
       "\n",
       "    .dataframe tbody tr th {\n",
       "        vertical-align: top;\n",
       "    }\n",
       "\n",
       "    .dataframe thead th {\n",
       "        text-align: right;\n",
       "    }\n",
       "</style>\n",
       "<table border=\"1\" class=\"dataframe\">\n",
       "  <thead>\n",
       "    <tr style=\"text-align: right;\">\n",
       "      <th></th>\n",
       "      <th>body_text</th>\n",
       "      <th>body_text_answer</th>\n",
       "    </tr>\n",
       "  </thead>\n",
       "  <tbody>\n",
       "    <tr>\n",
       "      <th>0</th>\n",
       "      <td>I've always wanted to start writing (in a totally amateur way), but whenever I want to start something I instantly get blocked having a lot of questions and doubts.\\nAre there some resources on how to start becoming a writer?\\nI'm thinking something with tips and easy exercises to get the ball rolling.\\n</td>\n",
       "      <td>Writing is something that I have wanted to do for some time, and I know that I don't currently have the skill set to do more than putter.  Are there any shared world story sites that exist?  A collaborative site for me to get my feet wet handling a supporting character or two, rather than trying to wrangle the whole plot, would be ideal.\\n</td>\n",
       "    </tr>\n",
       "    <tr>\n",
       "      <th>1</th>\n",
       "      <td>What kind of story is better suited for each point of view? Are there advantages or disadvantages inherent to them?\\nFor example, writing in the first person you are always following a character, while in the third person you can \"jump\" between story lines.\\n</td>\n",
       "      <td>One of the major mantras of writing fiction is \"show, don't tell\".\\nIs it ever okay to tell?  When?\\n</td>\n",
       "    </tr>\n",
       "    <tr>\n",
       "      <th>2</th>\n",
       "      <td>I finished my novel, and everyone I've talked to says I need an agent. How do I find one?\\n</td>\n",
       "      <td>If I have an excellent idea for a story, would it be wiser to write on paper first or start directly on the computer? There are many different reasons for beginning stories on paper as well as on the computer and I'd like to know about the different advantages of each side.\\n</td>\n",
       "    </tr>\n",
       "    <tr>\n",
       "      <th>4</th>\n",
       "      <td>I keep hearing about literary fiction, and how it is so much better than genre fiction. What exactly is literary fiction?\\n</td>\n",
       "      <td>A while ago, I played around with a short story idea in a genre I don't normally write (Young Adult fiction).  The story took on a life of its own, growing quickly to a novella, and now is definitely a novel, trying to stretch itself to a series.\\nThe story itself is going great, I'm just not sure where/how to break it up for a YA audience.  Specifically, I expect the content to be most appealing to the pre/young-teen crowd (12-14).  So far (it's still not completely mapped out) there are se...</td>\n",
       "    </tr>\n",
       "    <tr>\n",
       "      <th>6</th>\n",
       "      <td>I heard a writer talking about pantsing a story. What does that mean?\\n</td>\n",
       "      <td>Late October I decided to take the plunge and attempt NaNoWriMo. I haven't done much writing in some time and thought it would be a fun attempt to jump back into things. So far it's been pretty fun getting back into writing about something I hashed together from a weird dream.\\nBut I'm also woefully under the NaNoWriMo average at 8111 words. Most of my writing happens during my train commutes to and from work via train. I've averaged to about 400ish words a day, which wont get me anywhere ne...</td>\n",
       "    </tr>\n",
       "  </tbody>\n",
       "</table>\n",
       "</div>"
      ],
      "text/plain": [
       "                                                                                                                                                                                                                                                                                                           body_text  \\\n",
       "0  I've always wanted to start writing (in a totally amateur way), but whenever I want to start something I instantly get blocked having a lot of questions and doubts.\\nAre there some resources on how to start becoming a writer?\\nI'm thinking something with tips and easy exercises to get the ball rolling.\\n   \n",
       "1                                                What kind of story is better suited for each point of view? Are there advantages or disadvantages inherent to them?\\nFor example, writing in the first person you are always following a character, while in the third person you can \"jump\" between story lines.\\n   \n",
       "2                                                                                                                                                                                                                        I finished my novel, and everyone I've talked to says I need an agent. How do I find one?\\n   \n",
       "4                                                                                                                                                                                        I keep hearing about literary fiction, and how it is so much better than genre fiction. What exactly is literary fiction?\\n   \n",
       "6                                                                                                                                                                                                                                            I heard a writer talking about pantsing a story. What does that mean?\\n   \n",
       "\n",
       "                                                                                                                                                                                                                                                                                                                                                                                                                                                                                                      body_text_answer  \n",
       "0                                                                                                                                                                Writing is something that I have wanted to do for some time, and I know that I don't currently have the skill set to do more than putter.  Are there any shared world story sites that exist?  A collaborative site for me to get my feet wet handling a supporting character or two, rather than trying to wrangle the whole plot, would be ideal.\\n  \n",
       "1                                                                                                                                                                                                                                                                                                                                                                                                                One of the major mantras of writing fiction is \"show, don't tell\".\\nIs it ever okay to tell?  When?\\n  \n",
       "2                                                                                                                                                                                                                                 If I have an excellent idea for a story, would it be wiser to write on paper first or start directly on the computer? There are many different reasons for beginning stories on paper as well as on the computer and I'd like to know about the different advantages of each side.\\n  \n",
       "4  A while ago, I played around with a short story idea in a genre I don't normally write (Young Adult fiction).  The story took on a life of its own, growing quickly to a novella, and now is definitely a novel, trying to stretch itself to a series.\\nThe story itself is going great, I'm just not sure where/how to break it up for a YA audience.  Specifically, I expect the content to be most appealing to the pre/young-teen crowd (12-14).  So far (it's still not completely mapped out) there are se...  \n",
       "6  Late October I decided to take the plunge and attempt NaNoWriMo. I haven't done much writing in some time and thought it would be a fun attempt to jump back into things. So far it's been pretty fun getting back into writing about something I hashed together from a weird dream.\\nBut I'm also woefully under the NaNoWriMo average at 8111 words. Most of my writing happens during my train commutes to and from work via train. I've averaged to about 400ish words a day, which wont get me anywhere ne...  "
      ]
     },
     "execution_count": 6,
     "metadata": {},
     "output_type": "execute_result"
    }
   ],
   "source": [
    "questions_with_accepted_answer = df[df[\"is_question\"] & ~(df[\"AcceptedAnswerId\"].isna())]\n",
    "q_and_a = questions_with_accepted_answer.join(\n",
    "    df[[\"body_text\"]], on=\"AcceptedAnswerId\", how=\"left\", rsuffix=\"_answer\"\n",
    ")\n",
    "\n",
    "pd.options.display.max_colwidth = 500\n",
    "q_and_a[[\"body_text\", \"body_text_answer\"]][:5]"
   ]
  },
  {
   "cell_type": "code",
   "execution_count": 7,
   "metadata": {},
   "outputs": [
    {
     "name": "stdout",
     "output_type": "stream",
     "text": [
      "총 질문: 7971개, 1개 이상의 답변을 가진 질문 : 7827개, 답변이 채택된 질문: 4124개\n"
     ]
    }
   ],
   "source": [
    "received_answers = df[df['is_question'] & (df[\"AnswerCount\"]!=0)]\n",
    "has_accepted_answer = df[df[\"is_question\"] & ~(df[\"AcceptedAnswerId\"].isna())]\n",
    "\n",
    "print(\"총 질문: %s개, 1개 이상의 답변을 가진 질문 : %s개, 답변이 채택된 질문: %s개\" % (len(df['is_question']), len(received_answers),\n",
    "                                                            len(has_accepted_answer)))"
   ]
  },
  {
   "attachments": {},
   "cell_type": "markdown",
   "metadata": {},
   "source": [
    "### 데이터셋 EDA"
   ]
  },
  {
   "cell_type": "code",
   "execution_count": 8,
   "metadata": {},
   "outputs": [],
   "source": [
    "import matplotlib.pyplot as plt\n",
    "from matplotlib.patches import Rectangle"
   ]
  },
  {
   "cell_type": "code",
   "execution_count": 13,
   "metadata": {},
   "outputs": [
    {
     "ename": "AttributeError",
     "evalue": "'Rectangle' object has no property 'hisstype'",
     "output_type": "error",
     "traceback": [
      "\u001b[0;31m---------------------------------------------------------------------------\u001b[0m",
      "\u001b[0;31mAttributeError\u001b[0m                            Traceback (most recent call last)",
      "\u001b[0;32m/var/folders/45/0rtzt1jd3pd7gljy09csbh2m0000gn/T/ipykernel_5013/411042887.py\u001b[0m in \u001b[0;36m<module>\u001b[0;34m\u001b[0m\n\u001b[1;32m     12\u001b[0m )\n\u001b[1;32m     13\u001b[0m \u001b[0;34m\u001b[0m\u001b[0m\n\u001b[0;32m---> 14\u001b[0;31m df[df['is_question'] & ~high_score & normal_length][\"text_len\"].hist(\n\u001b[0m\u001b[1;32m     15\u001b[0m     \u001b[0mbins\u001b[0m\u001b[0;34m=\u001b[0m\u001b[0;36m60\u001b[0m\u001b[0;34m,\u001b[0m\u001b[0;34m\u001b[0m\u001b[0;34m\u001b[0m\u001b[0m\n\u001b[1;32m     16\u001b[0m     \u001b[0mdensity\u001b[0m\u001b[0;34m=\u001b[0m\u001b[0;32mTrue\u001b[0m\u001b[0;34m,\u001b[0m\u001b[0;34m\u001b[0m\u001b[0;34m\u001b[0m\u001b[0m\n",
      "\u001b[0;32m~/opt/anaconda3/lib/python3.8/site-packages/pandas/plotting/_core.py\u001b[0m in \u001b[0;36mhist_series\u001b[0;34m(self, by, ax, grid, xlabelsize, xrot, ylabelsize, yrot, figsize, bins, backend, legend, **kwargs)\u001b[0m\n\u001b[1;32m     98\u001b[0m     \"\"\"\n\u001b[1;32m     99\u001b[0m     \u001b[0mplot_backend\u001b[0m \u001b[0;34m=\u001b[0m \u001b[0m_get_plot_backend\u001b[0m\u001b[0;34m(\u001b[0m\u001b[0mbackend\u001b[0m\u001b[0;34m)\u001b[0m\u001b[0;34m\u001b[0m\u001b[0;34m\u001b[0m\u001b[0m\n\u001b[0;32m--> 100\u001b[0;31m     return plot_backend.hist_series(\n\u001b[0m\u001b[1;32m    101\u001b[0m         \u001b[0mself\u001b[0m\u001b[0;34m,\u001b[0m\u001b[0;34m\u001b[0m\u001b[0;34m\u001b[0m\u001b[0m\n\u001b[1;32m    102\u001b[0m         \u001b[0mby\u001b[0m\u001b[0;34m=\u001b[0m\u001b[0mby\u001b[0m\u001b[0;34m,\u001b[0m\u001b[0;34m\u001b[0m\u001b[0;34m\u001b[0m\u001b[0m\n",
      "\u001b[0;32m~/opt/anaconda3/lib/python3.8/site-packages/pandas/plotting/_matplotlib/hist.py\u001b[0m in \u001b[0;36mhist_series\u001b[0;34m(self, by, ax, grid, xlabelsize, xrot, ylabelsize, yrot, figsize, bins, legend, **kwds)\u001b[0m\n\u001b[1;32m    352\u001b[0m         \u001b[0;32mif\u001b[0m \u001b[0mlegend\u001b[0m\u001b[0;34m:\u001b[0m\u001b[0;34m\u001b[0m\u001b[0;34m\u001b[0m\u001b[0m\n\u001b[1;32m    353\u001b[0m             \u001b[0mkwds\u001b[0m\u001b[0;34m[\u001b[0m\u001b[0;34m\"label\"\u001b[0m\u001b[0;34m]\u001b[0m \u001b[0;34m=\u001b[0m \u001b[0mself\u001b[0m\u001b[0;34m.\u001b[0m\u001b[0mname\u001b[0m\u001b[0;34m\u001b[0m\u001b[0;34m\u001b[0m\u001b[0m\n\u001b[0;32m--> 354\u001b[0;31m         \u001b[0max\u001b[0m\u001b[0;34m.\u001b[0m\u001b[0mhist\u001b[0m\u001b[0;34m(\u001b[0m\u001b[0mvalues\u001b[0m\u001b[0;34m,\u001b[0m \u001b[0mbins\u001b[0m\u001b[0;34m=\u001b[0m\u001b[0mbins\u001b[0m\u001b[0;34m,\u001b[0m \u001b[0;34m**\u001b[0m\u001b[0mkwds\u001b[0m\u001b[0;34m)\u001b[0m\u001b[0;34m\u001b[0m\u001b[0;34m\u001b[0m\u001b[0m\n\u001b[0m\u001b[1;32m    355\u001b[0m         \u001b[0;32mif\u001b[0m \u001b[0mlegend\u001b[0m\u001b[0;34m:\u001b[0m\u001b[0;34m\u001b[0m\u001b[0;34m\u001b[0m\u001b[0m\n\u001b[1;32m    356\u001b[0m             \u001b[0max\u001b[0m\u001b[0;34m.\u001b[0m\u001b[0mlegend\u001b[0m\u001b[0;34m(\u001b[0m\u001b[0;34m)\u001b[0m\u001b[0;34m\u001b[0m\u001b[0;34m\u001b[0m\u001b[0m\n",
      "\u001b[0;32m~/opt/anaconda3/lib/python3.8/site-packages/matplotlib/__init__.py\u001b[0m in \u001b[0;36minner\u001b[0;34m(ax, data, *args, **kwargs)\u001b[0m\n\u001b[1;32m   1359\u001b[0m     \u001b[0;32mdef\u001b[0m \u001b[0minner\u001b[0m\u001b[0;34m(\u001b[0m\u001b[0max\u001b[0m\u001b[0;34m,\u001b[0m \u001b[0;34m*\u001b[0m\u001b[0margs\u001b[0m\u001b[0;34m,\u001b[0m \u001b[0mdata\u001b[0m\u001b[0;34m=\u001b[0m\u001b[0;32mNone\u001b[0m\u001b[0;34m,\u001b[0m \u001b[0;34m**\u001b[0m\u001b[0mkwargs\u001b[0m\u001b[0;34m)\u001b[0m\u001b[0;34m:\u001b[0m\u001b[0;34m\u001b[0m\u001b[0;34m\u001b[0m\u001b[0m\n\u001b[1;32m   1360\u001b[0m         \u001b[0;32mif\u001b[0m \u001b[0mdata\u001b[0m \u001b[0;32mis\u001b[0m \u001b[0;32mNone\u001b[0m\u001b[0;34m:\u001b[0m\u001b[0;34m\u001b[0m\u001b[0;34m\u001b[0m\u001b[0m\n\u001b[0;32m-> 1361\u001b[0;31m             \u001b[0;32mreturn\u001b[0m \u001b[0mfunc\u001b[0m\u001b[0;34m(\u001b[0m\u001b[0max\u001b[0m\u001b[0;34m,\u001b[0m \u001b[0;34m*\u001b[0m\u001b[0mmap\u001b[0m\u001b[0;34m(\u001b[0m\u001b[0msanitize_sequence\u001b[0m\u001b[0;34m,\u001b[0m \u001b[0margs\u001b[0m\u001b[0;34m)\u001b[0m\u001b[0;34m,\u001b[0m \u001b[0;34m**\u001b[0m\u001b[0mkwargs\u001b[0m\u001b[0;34m)\u001b[0m\u001b[0;34m\u001b[0m\u001b[0;34m\u001b[0m\u001b[0m\n\u001b[0m\u001b[1;32m   1362\u001b[0m \u001b[0;34m\u001b[0m\u001b[0m\n\u001b[1;32m   1363\u001b[0m         \u001b[0mbound\u001b[0m \u001b[0;34m=\u001b[0m \u001b[0mnew_sig\u001b[0m\u001b[0;34m.\u001b[0m\u001b[0mbind\u001b[0m\u001b[0;34m(\u001b[0m\u001b[0max\u001b[0m\u001b[0;34m,\u001b[0m \u001b[0;34m*\u001b[0m\u001b[0margs\u001b[0m\u001b[0;34m,\u001b[0m \u001b[0;34m**\u001b[0m\u001b[0mkwargs\u001b[0m\u001b[0;34m)\u001b[0m\u001b[0;34m\u001b[0m\u001b[0;34m\u001b[0m\u001b[0m\n",
      "\u001b[0;32m~/opt/anaconda3/lib/python3.8/site-packages/matplotlib/axes/_axes.py\u001b[0m in \u001b[0;36mhist\u001b[0;34m(self, x, bins, range, density, weights, cumulative, bottom, histtype, align, orientation, rwidth, log, color, label, stacked, **kwargs)\u001b[0m\n\u001b[1;32m   6909\u001b[0m             \u001b[0;32mif\u001b[0m \u001b[0mpatch\u001b[0m\u001b[0;34m:\u001b[0m\u001b[0;34m\u001b[0m\u001b[0;34m\u001b[0m\u001b[0m\n\u001b[1;32m   6910\u001b[0m                 \u001b[0mp\u001b[0m \u001b[0;34m=\u001b[0m \u001b[0mpatch\u001b[0m\u001b[0;34m[\u001b[0m\u001b[0;36m0\u001b[0m\u001b[0;34m]\u001b[0m\u001b[0;34m\u001b[0m\u001b[0;34m\u001b[0m\u001b[0m\n\u001b[0;32m-> 6911\u001b[0;31m                 \u001b[0mp\u001b[0m\u001b[0;34m.\u001b[0m\u001b[0mupdate\u001b[0m\u001b[0;34m(\u001b[0m\u001b[0mkwargs\u001b[0m\u001b[0;34m)\u001b[0m\u001b[0;34m\u001b[0m\u001b[0;34m\u001b[0m\u001b[0m\n\u001b[0m\u001b[1;32m   6912\u001b[0m                 \u001b[0;32mif\u001b[0m \u001b[0mlbl\u001b[0m \u001b[0;32mis\u001b[0m \u001b[0;32mnot\u001b[0m \u001b[0;32mNone\u001b[0m\u001b[0;34m:\u001b[0m\u001b[0;34m\u001b[0m\u001b[0;34m\u001b[0m\u001b[0m\n\u001b[1;32m   6913\u001b[0m                     \u001b[0mp\u001b[0m\u001b[0;34m.\u001b[0m\u001b[0mset_label\u001b[0m\u001b[0;34m(\u001b[0m\u001b[0mlbl\u001b[0m\u001b[0;34m)\u001b[0m\u001b[0;34m\u001b[0m\u001b[0;34m\u001b[0m\u001b[0m\n",
      "\u001b[0;32m~/opt/anaconda3/lib/python3.8/site-packages/matplotlib/artist.py\u001b[0m in \u001b[0;36mupdate\u001b[0;34m(self, props)\u001b[0m\n\u001b[1;32m   1060\u001b[0m                     \u001b[0mfunc\u001b[0m \u001b[0;34m=\u001b[0m \u001b[0mgetattr\u001b[0m\u001b[0;34m(\u001b[0m\u001b[0mself\u001b[0m\u001b[0;34m,\u001b[0m \u001b[0;34mf\"set_{k}\"\u001b[0m\u001b[0;34m,\u001b[0m \u001b[0;32mNone\u001b[0m\u001b[0;34m)\u001b[0m\u001b[0;34m\u001b[0m\u001b[0;34m\u001b[0m\u001b[0m\n\u001b[1;32m   1061\u001b[0m                     \u001b[0;32mif\u001b[0m \u001b[0;32mnot\u001b[0m \u001b[0mcallable\u001b[0m\u001b[0;34m(\u001b[0m\u001b[0mfunc\u001b[0m\u001b[0;34m)\u001b[0m\u001b[0;34m:\u001b[0m\u001b[0;34m\u001b[0m\u001b[0;34m\u001b[0m\u001b[0m\n\u001b[0;32m-> 1062\u001b[0;31m                         raise AttributeError(f\"{type(self).__name__!r} object \"\n\u001b[0m\u001b[1;32m   1063\u001b[0m                                              f\"has no property {k!r}\")\n\u001b[1;32m   1064\u001b[0m                     \u001b[0mret\u001b[0m\u001b[0;34m.\u001b[0m\u001b[0mappend\u001b[0m\u001b[0;34m(\u001b[0m\u001b[0mfunc\u001b[0m\u001b[0;34m(\u001b[0m\u001b[0mv\u001b[0m\u001b[0;34m)\u001b[0m\u001b[0;34m)\u001b[0m\u001b[0;34m\u001b[0m\u001b[0;34m\u001b[0m\u001b[0m\n",
      "\u001b[0;31mAttributeError\u001b[0m: 'Rectangle' object has no property 'hisstype'"
     ]
    },
    {
     "data": {
      "image/png": "[encoded data removed]",
      "text/plain": [
       "<Figure size 1152x720 with 1 Axes>"
      ]
     },
     "metadata": {
      "needs_background": "light"
     },
     "output_type": "display_data"
    }
   ],
   "source": [
    "high_score = df['Score'] > df['Score'].median()\n",
    "normal_length = df['text_len'] < 2000\n",
    "\n",
    "ax = df[df[\"is_question\"] & high_score & normal_length][\"text_len\"].hist(\n",
    "    bins=60,\n",
    "    density=True,\n",
    "    histtype=\"step\",\n",
    "    color=\"orange\",\n",
    "    linewidth=3,\n",
    "    grid=\"False\",\n",
    "    figsize=(16,10),\n",
    ")\n",
    "\n",
    "df[df['is_question'] & ~high_score & normal_length][\"text_len\"].hist(\n",
    "    bins=60,\n",
    "    density=True,\n",
    "    histtype=\"step\",\n",
    "    color=\"purple\",\n",
    "    linewidth=3,\n",
    "    grid=False,\n",
    ")\n",
    "\n",
    "handles = [\n",
    "        Rectangle((0,0), 1,1, color=c, ec=\"k\") for c in [\"orange\", \"purple\"]\n",
    "]\n",
    "labels = [\"High score\", \"Low score\"]\n",
    "plt.legend(handles, labels)\n",
    "ax.set_xlabel(\"Sentence length (characters)\")\n",
    "ax.set_ylabel(\"Percentage of sentences\")"
   ]
  },
  {
   "cell_type": "code",
   "execution_count": null,
   "metadata": {},
   "outputs": [],
   "source": []
  }
 ],
 "metadata": {
  "kernelspec": {
   "display_name": "base",
   "language": "python",
   "name": "python3"
  },
  "language_info": {
   "codemirror_mode": {
    "name": "ipython",
    "version": 3
   },
   "file_extension": ".py",
   "mimetype": "text/x-python",
   "name": "python",
   "nbconvert_exporter": "python",
   "pygments_lexer": "ipython3",
   "version": "3.8.2"
  },
  "orig_nbformat": 4
 },
 "nbformat": 4,
 "nbformat_minor": 2
}
